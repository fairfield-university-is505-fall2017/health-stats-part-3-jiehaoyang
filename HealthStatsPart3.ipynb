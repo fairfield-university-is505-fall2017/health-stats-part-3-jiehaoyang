{
 "cells": [
  {
   "cell_type": "markdown",
   "metadata": {},
   "source": [
    "# Health Stats Part 2: Waist 2 Hip Ratios"
   ]
  },
  {
   "cell_type": "markdown",
   "metadata": {},
   "source": [
    "<!--- Write an explanation of the Waist To Hips Ratio statistic used by health professionals. Please include an explanation of what it is used for, exactly how it is calculated, and how to interpret the results. Note: Formmatting matters. Make this as professional as you can using Markdown.  --->\n",
    "EDIT THIS MARKDOWN CELL"
   ]
  },
  {
   "cell_type": "markdown",
   "metadata": {},
   "source": [
    "## Source Data "
   ]
  },
  {
   "cell_type": "markdown",
   "metadata": {},
   "source": [
    "<!--- Replace the text below with a Markdown bullet list that defines the columns of the CSV file. Be sure to indicate the data type for each column. --->\n",
    "EDIT THIS MARKDOWN CELL"
   ]
  },
  {
   "cell_type": "markdown",
   "metadata": {},
   "source": [
    "## Data Import"
   ]
  },
  {
   "cell_type": "code",
   "execution_count": 23,
   "metadata": {
    "scrolled": true
   },
   "outputs": [
    {
     "data": {
      "text/plain": [
       "rec.array([( 1,  30.,  32., 'M'), ( 2,  32.,  37., 'M'), ( 3,  30.,  36., 'M'),\n",
       " ( 4,  33.,  39., 'M'), ( 5,  29.,  33., 'M'), ( 6,  32.,  38., 'M'),\n",
       " ( 7,  33.,  42., 'M'), ( 8,  30.,  40., 'M'), ( 9,  30.,  37., 'M'),\n",
       " (10,  32.,  39., 'M'), (11,  24.,  35., 'F'), (12,  25.,  37., 'F'),\n",
       " (13,  24.,  37., 'F'), (14,  22.,  34., 'F'), (15,  26.,  38., 'F'),\n",
       " (16,  26.,  37., 'F'), (17,  25.,  38., 'F'), (18,  26.,  37., 'F'),\n",
       " (19,  28.,  40., 'F'), (20,  23.,  35., 'F')], \n",
       "          dtype=[('ID', '<i4'), ('Waist', '<f8'), ('Hip', '<f8'), ('Gender', '<U1')])"
      ]
     },
     "execution_count": 23,
     "metadata": {},
     "output_type": "execute_result"
    }
   ],
   "source": [
    "# Goal: Extract the data from the files\n",
    "\n",
    "import numpy as np\n",
    "rows= np.recfromtxt('w2h_data.csv', delimiter=',', names=True, dtype=[int,float,float,'U1'])\n",
    "\n",
    "rows\n",
    "\n"
   ]
  },
  {
   "cell_type": "markdown",
   "metadata": {},
   "source": [
    "## Calculations"
   ]
  },
  {
   "cell_type": "code",
   "execution_count": 24,
   "metadata": {
    "collapsed": true
   },
   "outputs": [],
   "source": [
    "# Goal: For each row of data calculate and store the w2h_ratio and shape.\n",
    "\n",
    "w2h_ratios = rows.Waist/rows.Hip\n",
    "\n",
    "# male or female\n",
    "males = (rows['Gender']=='M')\n",
    "\n",
    "# male apple\n",
    "male_apples = np.logical_and((w2h_ratios>0.9), males)\n",
    "\n",
    "# female apple\n",
    "female_apples = np.logical_and((w2h_ratios>0.8), np.logical_not(males))\n",
    "\n",
    "# all apples\n",
    "\n",
    "apples = np.logical_or(male_apples,female_apples)\n",
    "\n",
    "# shapes if then else\n",
    "shapes = np.where(apples,'Apple','Pear')\n",
    "\n",
    "# array\n",
    "\n",
    "# dtype\n",
    "dt = np.dtype(rows.dtype.descr + [('W2H Ratio', float), ('Shape', 'U5')])\n",
    "\n",
    "# result\n",
    "results = np.zeros(rows.shape,dtype=dt)\n",
    "\n",
    "# copy\n",
    "for c in rows.dtype.names:\n",
    "    results[c]=rows[c]\n",
    "\n",
    "# add colums\n",
    "results['W2H Ratio']=w2h_ratios\n",
    "results['Shape']=shapes\n",
    "\n"
   ]
  },
  {
   "cell_type": "markdown",
   "metadata": {},
   "source": [
    "## Output"
   ]
  },
  {
   "cell_type": "code",
   "execution_count": 31,
   "metadata": {},
   "outputs": [
    {
     "data": {
      "text/html": [
       "<table><tr><th>ID</th><th>Waist</th><th>Hip</th><th>Gender</th><th>W2H Ratio</th><th>Shape</th></tr><tr><td>1</td><td>30.0</td><td>32.0</td><td>M</td><td>0.9375</td><td>Apple</td></tr><tr><td>2</td><td>32.0</td><td>37.0</td><td>M</td><td>0.864864864865</td><td>Pear</td></tr><tr><td>3</td><td>30.0</td><td>36.0</td><td>M</td><td>0.833333333333</td><td>Pear</td></tr><tr><td>4</td><td>33.0</td><td>39.0</td><td>M</td><td>0.846153846154</td><td>Pear</td></tr><tr><td>5</td><td>29.0</td><td>33.0</td><td>M</td><td>0.878787878788</td><td>Pear</td></tr><tr><td>6</td><td>32.0</td><td>38.0</td><td>M</td><td>0.842105263158</td><td>Pear</td></tr><tr><td>7</td><td>33.0</td><td>42.0</td><td>M</td><td>0.785714285714</td><td>Pear</td></tr><tr><td>8</td><td>30.0</td><td>40.0</td><td>M</td><td>0.75</td><td>Pear</td></tr><tr><td>9</td><td>30.0</td><td>37.0</td><td>M</td><td>0.810810810811</td><td>Pear</td></tr><tr><td>10</td><td>32.0</td><td>39.0</td><td>M</td><td>0.820512820513</td><td>Pear</td></tr><tr><td>11</td><td>24.0</td><td>35.0</td><td>F</td><td>0.685714285714</td><td>Pear</td></tr><tr><td>12</td><td>25.0</td><td>37.0</td><td>F</td><td>0.675675675676</td><td>Pear</td></tr><tr><td>13</td><td>24.0</td><td>37.0</td><td>F</td><td>0.648648648649</td><td>Pear</td></tr><tr><td>14</td><td>22.0</td><td>34.0</td><td>F</td><td>0.647058823529</td><td>Pear</td></tr><tr><td>15</td><td>26.0</td><td>38.0</td><td>F</td><td>0.684210526316</td><td>Pear</td></tr><tr><td>16</td><td>26.0</td><td>37.0</td><td>F</td><td>0.702702702703</td><td>Pear</td></tr><tr><td>17</td><td>25.0</td><td>38.0</td><td>F</td><td>0.657894736842</td><td>Pear</td></tr><tr><td>18</td><td>26.0</td><td>37.0</td><td>F</td><td>0.702702702703</td><td>Pear</td></tr><tr><td>19</td><td>28.0</td><td>40.0</td><td>F</td><td>0.7</td><td>Pear</td></tr><tr><td>20</td><td>23.0</td><td>35.0</td><td>F</td><td>0.657142857143</td><td>Pear</td></tr></table>"
      ],
      "text/plain": [
       "<IPython.core.display.HTML object>"
      ]
     },
     "metadata": {},
     "output_type": "display_data"
    }
   ],
   "source": [
    "# Goal: pretty print the rows as an HTML table\n",
    "\n",
    "html_table = '<table><tr><th>'\n",
    "html_table += \"</th><th>\".join(results.dtype.names)\n",
    "html_table += '</th></tr>'\n",
    "for row in results:\n",
    "    html_table += \"<tr><td>\"\n",
    "    html_table += \"</td><td>\".join(str(v) for v in row)\n",
    "    html_table += \"</td></tr>\"\n",
    "html_table += \"</table>\"\n",
    "\n",
    "from IPython.display import HTML, display\n",
    "display(HTML(html_table))\n",
    "\n",
    "# Export to \"StatsResults.csv\"\n",
    "np.savetxt(\"StatsResults.csv\",results,fmt='%s',delimiter=',',header=','.join(results.dtype.names),comments=\"\")"
   ]
  }
 ],
 "metadata": {
  "kernelspec": {
   "display_name": "Python 3",
   "language": "python",
   "name": "python3"
  },
  "language_info": {
   "codemirror_mode": {
    "name": "ipython",
    "version": 3
   },
   "file_extension": ".py",
   "mimetype": "text/x-python",
   "name": "python",
   "nbconvert_exporter": "python",
   "pygments_lexer": "ipython3",
   "version": "3.6.1"
  }
 },
 "nbformat": 4,
 "nbformat_minor": 2
}
